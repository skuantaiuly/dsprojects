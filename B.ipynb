{
 "cells": [
  {
   "cell_type": "code",
   "execution_count": 1,
   "metadata": {},
   "outputs": [],
   "source": [
    "import pandas as pd"
   ]
  },
  {
   "cell_type": "code",
   "execution_count": 5,
   "metadata": {},
   "outputs": [
    {
     "data": {
      "text/html": [
       "<div>\n",
       "<style scoped>\n",
       "    .dataframe tbody tr th:only-of-type {\n",
       "        vertical-align: middle;\n",
       "    }\n",
       "\n",
       "    .dataframe tbody tr th {\n",
       "        vertical-align: top;\n",
       "    }\n",
       "\n",
       "    .dataframe thead th {\n",
       "        text-align: right;\n",
       "    }\n",
       "</style>\n",
       "<table border=\"1\" class=\"dataframe\">\n",
       "  <thead>\n",
       "    <tr style=\"text-align: right;\">\n",
       "      <th></th>\n",
       "      <th>3</th>\n",
       "      <th>1</th>\n",
       "      <th>0</th>\n",
       "      <th>4.946383226137406</th>\n",
       "    </tr>\n",
       "  </thead>\n",
       "  <tbody>\n",
       "    <tr>\n",
       "      <th>0</th>\n",
       "      <td>15</td>\n",
       "      <td>1</td>\n",
       "      <td>0</td>\n",
       "      <td>5.094175</td>\n",
       "    </tr>\n",
       "    <tr>\n",
       "      <th>1</th>\n",
       "      <td>2</td>\n",
       "      <td>1</td>\n",
       "      <td>0</td>\n",
       "      <td>4.610773</td>\n",
       "    </tr>\n",
       "    <tr>\n",
       "      <th>2</th>\n",
       "      <td>7</td>\n",
       "      <td>1</td>\n",
       "      <td>0</td>\n",
       "      <td>4.733779</td>\n",
       "    </tr>\n",
       "    <tr>\n",
       "      <th>3</th>\n",
       "      <td>8</td>\n",
       "      <td>1</td>\n",
       "      <td>0</td>\n",
       "      <td>4.790034</td>\n",
       "    </tr>\n",
       "    <tr>\n",
       "      <th>4</th>\n",
       "      <td>9</td>\n",
       "      <td>1</td>\n",
       "      <td>0</td>\n",
       "      <td>4.923267</td>\n",
       "    </tr>\n",
       "    <tr>\n",
       "      <th>...</th>\n",
       "      <td>...</td>\n",
       "      <td>...</td>\n",
       "      <td>...</td>\n",
       "      <td>...</td>\n",
       "    </tr>\n",
       "    <tr>\n",
       "      <th>29999994</th>\n",
       "      <td>6</td>\n",
       "      <td>2</td>\n",
       "      <td>1499</td>\n",
       "      <td>1.726684</td>\n",
       "    </tr>\n",
       "    <tr>\n",
       "      <th>29999995</th>\n",
       "      <td>7</td>\n",
       "      <td>2</td>\n",
       "      <td>1499</td>\n",
       "      <td>3.515895</td>\n",
       "    </tr>\n",
       "    <tr>\n",
       "      <th>29999996</th>\n",
       "      <td>2</td>\n",
       "      <td>2</td>\n",
       "      <td>1499</td>\n",
       "      <td>7.102604</td>\n",
       "    </tr>\n",
       "    <tr>\n",
       "      <th>29999997</th>\n",
       "      <td>7</td>\n",
       "      <td>2</td>\n",
       "      <td>1499</td>\n",
       "      <td>0.881856</td>\n",
       "    </tr>\n",
       "    <tr>\n",
       "      <th>29999998</th>\n",
       "      <td>5</td>\n",
       "      <td>2</td>\n",
       "      <td>1499</td>\n",
       "      <td>4.583794</td>\n",
       "    </tr>\n",
       "  </tbody>\n",
       "</table>\n",
       "<p>29999999 rows × 4 columns</p>\n",
       "</div>"
      ],
      "text/plain": [
       "           3  1     0  4.946383226137406\n",
       "0         15  1     0           5.094175\n",
       "1          2  1     0           4.610773\n",
       "2          7  1     0           4.733779\n",
       "3          8  1     0           4.790034\n",
       "4          9  1     0           4.923267\n",
       "...       .. ..   ...                ...\n",
       "29999994   6  2  1499           1.726684\n",
       "29999995   7  2  1499           3.515895\n",
       "29999996   2  2  1499           7.102604\n",
       "29999997   7  2  1499           0.881856\n",
       "29999998   5  2  1499           4.583794\n",
       "\n",
       "[29999999 rows x 4 columns]"
      ]
     },
     "execution_count": 5,
     "metadata": {},
     "output_type": "execute_result"
    }
   ],
   "source": [
    "data = pd.read_csv('dataset.tsv',sep='\\t')\n",
    "data"
   ]
  },
  {
   "cell_type": "code",
   "execution_count": 8,
   "metadata": {},
   "outputs": [],
   "source": [
    "data = data.rename(columns={'3':'N', '1':'TEST_ID','0':'IND','4.946383226137406':'FEAT'})"
   ]
  },
  {
   "cell_type": "code",
   "execution_count": 10,
   "metadata": {},
   "outputs": [
    {
     "name": "stderr",
     "output_type": "stream",
     "text": [
      "C:\\Users\\skuan\\AppData\\Local\\Temp\\ipykernel_1240\\3790428662.py:2: FutureWarning: The frame.append method is deprecated and will be removed from pandas in a future version. Use pandas.concat instead.\n",
      "  data = data.append(new_row, ignore_index=True)\n"
     ]
    }
   ],
   "source": [
    "new_row = {'N':'3', 'TEST_ID':'1','IND':'0','FEAT':'4.946383226137406'}\n",
    "data = data.append(new_row, ignore_index=True)"
   ]
  },
  {
   "cell_type": "code",
   "execution_count": 12,
   "metadata": {},
   "outputs": [],
   "source": [
    "n = list(data['N'])\n",
    "test_id = list(data['TEST_ID'])\n",
    "ind = list(data['IND'])\n",
    "feat = list(data['FEAT'])"
   ]
  },
  {
   "cell_type": "code",
   "execution_count": 21,
   "metadata": {},
   "outputs": [],
   "source": [
    "count = 0\n",
    "mass=[]\n",
    "for i in range(len(n)):\n",
    "    if float(feat[i])!=1000000 and float(feat[i])!=-1000000:\n",
    "        if float(feat[i])<-1000000 or float(feat[i])>1000000:\n",
    "            count+=1\n",
    "            mass.append(ind[i])\n"
   ]
  },
  {
   "cell_type": "code",
   "execution_count": 25,
   "metadata": {},
   "outputs": [],
   "source": [
    "sort=[]\n",
    "for i in range(len(mass)):\n",
    "    if mass[i] not in sort:\n",
    "        sort.append(mass[i])"
   ]
  },
  {
   "cell_type": "code",
   "execution_count": 28,
   "metadata": {},
   "outputs": [
    {
     "data": {
      "text/plain": [
       "[9, 36, 44, 52, 66, 80, 117, 130, 137, 140]"
      ]
     },
     "execution_count": 28,
     "metadata": {},
     "output_type": "execute_result"
    }
   ],
   "source": [
    "sort[:10]"
   ]
  }
 ],
 "metadata": {
  "kernelspec": {
   "display_name": "Python 3.10.6 64-bit",
   "language": "python",
   "name": "python3"
  },
  "language_info": {
   "codemirror_mode": {
    "name": "ipython",
    "version": 3
   },
   "file_extension": ".py",
   "mimetype": "text/x-python",
   "name": "python",
   "nbconvert_exporter": "python",
   "pygments_lexer": "ipython3",
   "version": "3.10.6"
  },
  "orig_nbformat": 4,
  "vscode": {
   "interpreter": {
    "hash": "f19960b3a28fff8c29d0453685a4145a6cd95bb8ec8289a1e5062299bc3d1dc7"
   }
  }
 },
 "nbformat": 4,
 "nbformat_minor": 2
}
